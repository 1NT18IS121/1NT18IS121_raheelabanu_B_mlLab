{
 "cells": [
  {
   "cell_type": "code",
   "execution_count": 1,
   "metadata": {},
   "outputs": [
    {
     "name": "stdout",
     "output_type": "stream",
     "text": [
      "[1, 2, 3, 4, 'raheela', 5, 6]\n"
     ]
    }
   ],
   "source": [
    "list=[1,2,3,4,'raheela',5,6]\n",
    "print(list)"
   ]
  },
  {
   "cell_type": "code",
   "execution_count": 2,
   "metadata": {},
   "outputs": [
    {
     "name": "stdout",
     "output_type": "stream",
     "text": [
      "[1, 2, 3, 4, 5]\n"
     ]
    }
   ],
   "source": [
    "list_1=[1,2,3,4,5]\n",
    "print(list_1)"
   ]
  },
  {
   "cell_type": "code",
   "execution_count": 3,
   "metadata": {},
   "outputs": [
    {
     "name": "stdout",
     "output_type": "stream",
     "text": [
      "1\n"
     ]
    }
   ],
   "source": [
    "print(list_1[0])"
   ]
  },
  {
   "cell_type": "code",
   "execution_count": 4,
   "metadata": {},
   "outputs": [
    {
     "name": "stdout",
     "output_type": "stream",
     "text": [
      "5\n"
     ]
    }
   ],
   "source": [
    "print(list_1[4])"
   ]
  },
  {
   "cell_type": "code",
   "execution_count": 5,
   "metadata": {},
   "outputs": [
    {
     "name": "stdout",
     "output_type": "stream",
     "text": [
      "[1, 2, 3, 4, 'raheela', 5, 6, 'banu']\n"
     ]
    }
   ],
   "source": [
    "list.append(\"banu\")\n",
    "print(list)"
   ]
  },
  {
   "cell_type": "code",
   "execution_count": 6,
   "metadata": {},
   "outputs": [
    {
     "name": "stdout",
     "output_type": "stream",
     "text": [
      "[1, 2, 3, 4, 'raheela', 5, 6, 'banu', 7]\n"
     ]
    }
   ],
   "source": [
    "list.insert(8,7)\n",
    "print(list)"
   ]
  },
  {
   "cell_type": "code",
   "execution_count": 7,
   "metadata": {},
   "outputs": [
    {
     "name": "stdout",
     "output_type": "stream",
     "text": [
      "[1, 3, 4, 'raheela', 5, 6, 'banu', 7]\n"
     ]
    }
   ],
   "source": [
    "list.pop(1)\n",
    "print(list)"
   ]
  },
  {
   "cell_type": "code",
   "execution_count": 8,
   "metadata": {},
   "outputs": [
    {
     "name": "stdout",
     "output_type": "stream",
     "text": [
      "[1, 3, 'raheela', 5, 6, 'banu', 7]\n"
     ]
    }
   ],
   "source": [
    "list.remove(4)\n",
    "print(list)"
   ]
  },
  {
   "cell_type": "code",
   "execution_count": 9,
   "metadata": {},
   "outputs": [
    {
     "name": "stdout",
     "output_type": "stream",
     "text": [
      "[7, 'banu', 6, 5, 'raheela', 3, 1]\n"
     ]
    }
   ],
   "source": [
    "list.reverse()\n",
    "print(list)"
   ]
  },
  {
   "cell_type": "code",
   "execution_count": 10,
   "metadata": {},
   "outputs": [
    {
     "name": "stdout",
     "output_type": "stream",
     "text": [
      "[10, 20, 30, 40, 50, 60, 1, 2, 3, 4, 5]\n"
     ]
    }
   ],
   "source": [
    "#add two lists\n",
    "list_2 = [10,20,30,40,50,60]\n",
    "res_list = list_2 + list_1\n",
    "print(res_list)"
   ]
  },
  {
   "cell_type": "code",
   "execution_count": 11,
   "metadata": {},
   "outputs": [
    {
     "name": "stdout",
     "output_type": "stream",
     "text": [
      "10\n",
      "20\n",
      "30\n",
      "40\n",
      "50\n",
      "60\n",
      "1\n",
      "2\n",
      "3\n",
      "4\n",
      "5\n"
     ]
    }
   ],
   "source": [
    "for i in range(len(res_list)):\n",
    "    print(res_list[i])"
   ]
  },
  {
   "cell_type": "code",
   "execution_count": 12,
   "metadata": {},
   "outputs": [
    {
     "name": "stdout",
     "output_type": "stream",
     "text": [
      "10\n",
      "20\n",
      "30\n",
      "40\n",
      "50\n",
      "60\n",
      "1\n",
      "2\n",
      "3\n",
      "4\n",
      "5\n"
     ]
    }
   ],
   "source": [
    "for i in res_list:\n",
    "    print(i)"
   ]
  },
  {
   "cell_type": "code",
   "execution_count": 13,
   "metadata": {},
   "outputs": [
    {
     "name": "stdout",
     "output_type": "stream",
     "text": [
      "10\n",
      "60\n"
     ]
    }
   ],
   "source": [
    "#min amd max\n",
    "print(min(list_2))\n",
    "print(max(list_2))"
   ]
  },
  {
   "cell_type": "code",
   "execution_count": 14,
   "metadata": {},
   "outputs": [
    {
     "name": "stdout",
     "output_type": "stream",
     "text": [
      "Before swapping : a:10 , b:20 \n",
      "After swapping : a:20 , b:10 \n"
     ]
    }
   ],
   "source": [
    "#swap elements\n",
    "a = 10\n",
    "b = 20\n",
    "print(\"Before swapping : a:{} , b:{} \".format(a,b))\n",
    "a,b = b,a\n",
    "print(\"After swapping : a:{} , b:{} \".format(a,b))"
   ]
  },
  {
   "cell_type": "code",
   "execution_count": 15,
   "metadata": {},
   "outputs": [
    {
     "name": "stdout",
     "output_type": "stream",
     "text": [
      "[1, 2, 3, 4, 5]\n",
      "3\n",
      "5\n"
     ]
    }
   ],
   "source": [
    "#list of 5 elements and print 3rd and 5th element\n",
    "list1=[1,2,3,4,5]\n",
    "print(list1)\n",
    "print(list1[2])\n",
    "print(list1[4])"
   ]
  },
  {
   "cell_type": "code",
   "execution_count": 16,
   "metadata": {},
   "outputs": [
    {
     "name": "stdout",
     "output_type": "stream",
     "text": [
      "[1, 2, 3, 4, 5, 6]\n",
      "[1, 2, 3, 4, 5]\n"
     ]
    }
   ],
   "source": [
    "#add 6th element as string and delete 6th element\n",
    "list1.append(6)\n",
    "print(list1)\n",
    "list1.pop()\n",
    "print(list1)"
   ]
  },
  {
   "cell_type": "code",
   "execution_count": 17,
   "metadata": {},
   "outputs": [
    {
     "name": "stdout",
     "output_type": "stream",
     "text": [
      "Strings are equal\n"
     ]
    }
   ],
   "source": [
    "#compare 2 strings\n",
    "string1 = \"sample\"\n",
    "string2 = \"sample\"\n",
    "\n",
    "if string1 == string2 :\n",
    "    print(\"Strings are equal\")\n",
    "else :\n",
    "    print (\"Strings are not equal\")"
   ]
  },
  {
   "cell_type": "code",
   "execution_count": 18,
   "metadata": {},
   "outputs": [
    {
     "name": "stdout",
     "output_type": "stream",
     "text": [
      "1,2,3,4\n",
      "1\n",
      "enter the first number\n",
      "2\n",
      "enter the second number\n",
      "3\n",
      "sum 5\n"
     ]
    }
   ],
   "source": [
    "#simple calculator\n",
    "print(\"1,2,3,4\")\n",
    "ch = int(input())\n",
    "print(\"enter the first number\")\n",
    "a = int(input())\n",
    "print(\"enter the second number\")\n",
    "b = int(input())\n",
    "if(ch==1):\n",
    "    print(\"sum {}\".format(a+b))\n",
    "elif(ch==2):\n",
    "    print(\"difference {}\".format(a-b))\n",
    "elif(ch==3):\n",
    "    print(\"multiplication {}\".format(a*b))\n",
    "else:\n",
    "    print(\"division {}\".format(a/b))"
   ]
  },
  {
   "cell_type": "code",
   "execution_count": 21,
   "metadata": {},
   "outputs": [
    {
     "name": "stdout",
     "output_type": "stream",
     "text": [
      "Enter anything2\n",
      "<class 'float'>\n"
     ]
    }
   ],
   "source": [
    "a = float(input(\"Enter anything\"))\n",
    "print(type(a))"
   ]
  },
  {
   "cell_type": "code",
   "execution_count": 23,
   "metadata": {},
   "outputs": [
    {
     "name": "stdout",
     "output_type": "stream",
     "text": [
      "510\n",
      "15.0\n"
     ]
    }
   ],
   "source": [
    "a = '5'\n",
    "b ='10'\n",
    "print(a+b)\n",
    "a = float(a)\n",
    "b = int(b)\n",
    "print(a+b)"
   ]
  },
  {
   "cell_type": "code",
   "execution_count": 24,
   "metadata": {},
   "outputs": [
    {
     "name": "stdout",
     "output_type": "stream",
     "text": [
      "Mean is 3.5\n"
     ]
    }
   ],
   "source": [
    "l = [1,2,3,4,5,6]\n",
    "lsum = 0\n",
    "for i in l:\n",
    "    lsum= lsum + i\n",
    "print(\"Mean is {}\".format(lsum / len(l)))"
   ]
  },
  {
   "cell_type": "code",
   "execution_count": 25,
   "metadata": {},
   "outputs": [
    {
     "name": "stdout",
     "output_type": "stream",
     "text": [
      "Median is 3.5\n"
     ]
    }
   ],
   "source": [
    "if(len(l) % 2 != 0 ):\n",
    "    ele = len(l) // 2\n",
    "    print(\"Median is {}\".format(l[ele]) )\n",
    "else:\n",
    "    ele = len(l) // 2\n",
    "    lsum = l[ele] + l[ele-1]\n",
    "    ans = lsum / 2\n",
    "    print(\"Median is {}\".format(ans) )"
   ]
  },
  {
   "cell_type": "code",
   "execution_count": null,
   "metadata": {},
   "outputs": [],
   "source": []
  }
 ],
 "metadata": {
  "kernelspec": {
   "display_name": "Python 3",
   "language": "python",
   "name": "python3"
  },
  "language_info": {
   "codemirror_mode": {
    "name": "ipython",
    "version": 3
   },
   "file_extension": ".py",
   "mimetype": "text/x-python",
   "name": "python",
   "nbconvert_exporter": "python",
   "pygments_lexer": "ipython3",
   "version": "3.8.5"
  }
 },
 "nbformat": 4,
 "nbformat_minor": 4
}

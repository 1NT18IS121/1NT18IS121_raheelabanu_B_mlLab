{
 "cells": [
  {
   "cell_type": "code",
   "execution_count": 1,
   "metadata": {},
   "outputs": [
    {
     "name": "stdout",
     "output_type": "stream",
     "text": [
      "enter the number of elements5\n",
      "enter the elements\n",
      "2 3 1 5\n",
      "sorted element[1, 2, 3, 5]\n"
     ]
    }
   ],
   "source": [
    "#bubble sort \n",
    "n=int(input(\"enter the number of elements\"))\n",
    "print(\"enter the elements\")\n",
    "l= list(map(int,input().split()))\n",
    "for i in range(len(l)):\n",
    "    for j in range(i+1,len(l)):\n",
    "        if(l[i]>l[j]):\n",
    "            temp=l[i]\n",
    "            l[i]=l[j]\n",
    "            l[j]=temp\n",
    "print(\"sorted element\",end=\"\")\n",
    "print(l)"
   ]
  },
  {
   "cell_type": "code",
   "execution_count": 2,
   "metadata": {},
   "outputs": [
    {
     "name": "stdout",
     "output_type": "stream",
     "text": [
      "standard deviation is : 1.118033988749895\n",
      "variance is :1.2500000000000002\n"
     ]
    }
   ],
   "source": [
    "#standard deviation and variation\n",
    "import math\n",
    "arr_ele = [1,2,3,4]\n",
    "temp = 0\n",
    "mean = sum(arr_ele)/len(arr_ele)\n",
    "for i in arr_ele:\n",
    "    temp = temp+((i-mean)**2)\n",
    "sd = math.sqrt((temp/(len(arr_ele))))\n",
    "var=sd*sd\n",
    "print(\"standard deviation is : {}\".format(sd))\n",
    "print(\"variance is :{}\".format(var))"
   ]
  },
  {
   "cell_type": "code",
   "execution_count": null,
   "metadata": {},
   "outputs": [],
   "source": []
  }
 ],
 "metadata": {
  "kernelspec": {
   "display_name": "Python 3",
   "language": "python",
   "name": "python3"
  },
  "language_info": {
   "codemirror_mode": {
    "name": "ipython",
    "version": 3
   },
   "file_extension": ".py",
   "mimetype": "text/x-python",
   "name": "python",
   "nbconvert_exporter": "python",
   "pygments_lexer": "ipython3",
   "version": "3.8.5"
  }
 },
 "nbformat": 4,
 "nbformat_minor": 4
}
